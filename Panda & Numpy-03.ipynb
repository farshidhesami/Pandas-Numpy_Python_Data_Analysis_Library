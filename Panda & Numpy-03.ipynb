{
 "cells": [
  {
   "cell_type": "markdown",
   "id": "0d23c05f-a2c7-4202-bb01-abcaff1d244b",
   "metadata": {},
   "source": [
    "### Top 15 Python Libraries for Data Science\n",
    "- Scrapy\n",
    "- BeautifulSoup\n",
    "- Numpy\n",
    "- Pandas\n",
    "- SciPy\n",
    "- Scikit-Learn\n",
    "- Keras\n",
    "- PyTorch\n",
    "- XGBoost\n",
    "- LightGBM\n",
    "- TensorFlow\n",
    "- Matplotlib\n",
    "- Seaborn\n",
    "- Plotly\n",
    "- Pycaret"
   ]
  },
  {
   "cell_type": "markdown",
   "id": "1668fa71-e0f3-49b1-9405-9448bf4554c6",
   "metadata": {},
   "source": [
    "### What is NumPy?\n",
    "The NumPy library is a popular open-source Python library used for scientific computing applications, and it stands for Numerical Python, which is consisting of multidimensional array objects and a collection of routines for processing those arrays. Using NumPy, we can perform mathematical and logical operations. NumPy is a Python package.\n",
    "NumPy is a Python library used for working with arrays.\n",
    "#### It contains various features including these important ones:\n",
    "    - A powerful N-dimensional array object\n",
    "    - Sophisticated (broadcasting) functions\n",
    "    - Tools for integrating C/C++ and Fortran code\n",
    "    - Useful linear algebra, Fourier transform, and random number capabilities\n",
    "### Install NumPy using PIP\n",
    "- pip install numpy\n",
    "- conda install numpy\n",
    "- import numpy\n",
    "- import numpy as np\n",
    "\n",
    "### Why is NumPy Faster Than Lists?\n",
    "\n",
    "NumPy arrays are stored at one continuous place in memory unlike lists, so processes can access and manipulate them very efficiently.\n",
    "\n",
    "This behavior is called locality of reference in computer science.\n",
    "\n",
    "This is the main reason why NumPy is faster than lists. Also it is optimized to work with latest CPU architectures."
   ]
  },
  {
   "cell_type": "markdown",
   "id": "e5562465-da15-49f5-a70f-184d5bcf87a7",
   "metadata": {},
   "source": [
    "###  Some important points about Numpy arrays:\n",
    "\n",
    "-We can create an N-dimensional array in python using Numpy.array().\n",
    "-The array is by default Homogeneous, which means data inside an array must be of the same Datatype.\n",
    "\n",
    "-Element-wise operation is possible.\n",
    "-Numpy array has various functions, methods, and variables, to ease our task of matrix computation.\n",
    "-Elements of an array are stored contiguously in memory. For example, all rows of a two-dimensioned array must have the same number of columns. \n",
    "\n",
    "### The differences between an array and a list?\n",
    "\n",
    "    -A list cannot directly handle a mathematical operations, while array can \n",
    "    -An array consumes less memory than a list \n",
    "    -Using an array is faster than a list\n",
    "    -A list is easier to modify\n",
    "    -A list can consist of different nested data size\n",
    "    -A list can store different data types\n"
   ]
  },
  {
   "cell_type": "markdown",
   "id": "5b4f18f0-9525-4ece-9061-3d83b6637f46",
   "metadata": {},
   "source": [
    "### NumPy stands for Numerical Python. It is a Python library used for working with an array. In Python, we use the list for purpose of the array but it’s slow to process. NumPy array is a powerful N-dimensional array object and its use in linear algebra, Fourier transform, and random number capabilities. It provides an array object much faster than traditional Python lists.\n",
    "\n",
    "### Types of Array:\n",
    "\n",
    "   - One Dimensional Array : A one-dimensional array is a type of linear array.\n",
    "   - Multi-Dimensional Array : Data in multidimensional arrays are stored in tabular form.\n",
    "\n",
    "\n",
    "\n",
    "#### https://www.geeksforgeeks.org/basics-of-numpy-arrays/\n",
    "#### https://www.interviewbit.com/blog/pandas-vs-numpy/"
   ]
  },
  {
   "cell_type": "code",
   "execution_count": 188,
   "id": "009d5c24-f34f-4c54-95bb-50d1052d5c43",
   "metadata": {},
   "outputs": [
    {
     "name": "stdout",
     "output_type": "stream",
     "text": [
      "Requirement already satisfied: numpy in /opt/conda/lib/python3.10/site-packages (1.23.4)\n"
     ]
    }
   ],
   "source": [
    "!pip3 install numpy"
   ]
  },
  {
   "cell_type": "code",
   "execution_count": 189,
   "id": "f17ea9c9-201c-40f2-965c-58b1b2f6f383",
   "metadata": {},
   "outputs": [],
   "source": [
    "import numpy"
   ]
  },
  {
   "cell_type": "code",
   "execution_count": 190,
   "id": "72216379-a02a-4710-9f75-278673358244",
   "metadata": {},
   "outputs": [],
   "source": [
    "import numpy as np"
   ]
  },
  {
   "cell_type": "code",
   "execution_count": 191,
   "id": "30e02905-238d-425a-a62f-f222a6447634",
   "metadata": {},
   "outputs": [],
   "source": [
    "list = [1, 2, 3, 4]"
   ]
  },
  {
   "cell_type": "code",
   "execution_count": 192,
   "id": "9f89767c-81d9-47b2-8456-bf0ffec95f67",
   "metadata": {},
   "outputs": [
    {
     "data": {
      "text/plain": [
       "list"
      ]
     },
     "execution_count": 192,
     "metadata": {},
     "output_type": "execute_result"
    }
   ],
   "source": [
    "type(list)"
   ]
  },
  {
   "cell_type": "markdown",
   "id": "b9158c83-0c8e-4a03-ad09-5ccdb34aa209",
   "metadata": {},
   "source": [
    "### NumPy Array Indexing :\n",
    "\n",
    "-Array indexing is the same as accessing an array element.\n"
   ]
  },
  {
   "cell_type": "code",
   "execution_count": 193,
   "id": "bf667c13-21cf-46f2-a22b-58b498ab0723",
   "metadata": {},
   "outputs": [],
   "source": [
    "a = np.array(list)"
   ]
  },
  {
   "cell_type": "code",
   "execution_count": 194,
   "id": "c4222354-2d89-4d16-80d9-dd19fdd79c1c",
   "metadata": {},
   "outputs": [
    {
     "data": {
      "text/plain": [
       "numpy.ndarray"
      ]
     },
     "execution_count": 194,
     "metadata": {},
     "output_type": "execute_result"
    }
   ],
   "source": [
    "type(a)"
   ]
  },
  {
   "cell_type": "code",
   "execution_count": 195,
   "id": "4ab4cf2c-94a3-4845-a2fd-6ab25ce41f82",
   "metadata": {},
   "outputs": [
    {
     "data": {
      "text/plain": [
       "array([1, 2, 3, 4])"
      ]
     },
     "execution_count": 195,
     "metadata": {},
     "output_type": "execute_result"
    }
   ],
   "source": [
    "a"
   ]
  },
  {
   "cell_type": "code",
   "execution_count": 196,
   "id": "dce6f245-efe4-4a51-bc60-3cda4ff6f3dd",
   "metadata": {},
   "outputs": [],
   "source": [
    "a1 = np.array([[1,2,3] , [3,4,5]])"
   ]
  },
  {
   "cell_type": "code",
   "execution_count": 197,
   "id": "f2b1dbcd-409e-43dc-9f79-13bec7d5547b",
   "metadata": {},
   "outputs": [
    {
     "data": {
      "text/plain": [
       "array([[1, 2, 3],\n",
       "       [3, 4, 5]])"
      ]
     },
     "execution_count": 197,
     "metadata": {},
     "output_type": "execute_result"
    }
   ],
   "source": [
    "a1"
   ]
  },
  {
   "cell_type": "code",
   "execution_count": 198,
   "id": "34e92eff-b930-45e5-a386-12565449880f",
   "metadata": {},
   "outputs": [],
   "source": [
    "a2 = np.array([[[1,2,3] , [4,.5,6]]])"
   ]
  },
  {
   "cell_type": "code",
   "execution_count": 199,
   "id": "617ac87c-e2dd-4863-b441-fc1c194ac74b",
   "metadata": {},
   "outputs": [
    {
     "data": {
      "text/plain": [
       "array([[[1. , 2. , 3. ],\n",
       "        [4. , 0.5, 6. ]]])"
      ]
     },
     "execution_count": 199,
     "metadata": {},
     "output_type": "execute_result"
    }
   ],
   "source": [
    "a2"
   ]
  },
  {
   "cell_type": "markdown",
   "id": "52768b0e-6a18-4d84-8f87-946c20c8c094",
   "metadata": {},
   "source": [
    "### 1-D Arrays : \n",
    "\n",
    "An array that has 0-D arrays as its elements is called uni-dimensional or 1-D array."
   ]
  },
  {
   "cell_type": "code",
   "execution_count": 200,
   "id": "0d6ed8f8-a6f8-4bd7-923b-f3478e5b98c8",
   "metadata": {},
   "outputs": [
    {
     "data": {
      "text/plain": [
       "array([1, 2, 3, 4])"
      ]
     },
     "execution_count": 200,
     "metadata": {},
     "output_type": "execute_result"
    }
   ],
   "source": [
    "a"
   ]
  },
  {
   "cell_type": "markdown",
   "id": "d3e867ac-250f-40b9-a8bf-1d6a7f83a93e",
   "metadata": {},
   "source": [
    "### Access 2-D Arrays: (2nd element on 1st row)\n",
    "\n",
    "-To access elements from 2-D arrays we can use comma separated integers representing the dimension and the index of the element.\n",
    "\n",
    "-Think of 2-D arrays like a table with rows and columns, where the dimension represents the row and the index represents the column"
   ]
  },
  {
   "cell_type": "code",
   "execution_count": 201,
   "id": "63ef9345-22a1-46e0-80a8-a10480f914ed",
   "metadata": {},
   "outputs": [
    {
     "data": {
      "text/plain": [
       "array([[1, 2, 3],\n",
       "       [3, 4, 5]])"
      ]
     },
     "execution_count": 201,
     "metadata": {},
     "output_type": "execute_result"
    }
   ],
   "source": [
    "a1"
   ]
  },
  {
   "cell_type": "markdown",
   "id": "c9e5653f-6290-427c-800c-0b06f0f39d18",
   "metadata": {},
   "source": [
    "### Access 3-D Arrays :\n",
    "\n",
    "-To access elements from 3-D arrays we can use comma separated integers representing the dimensions and the index of the element."
   ]
  },
  {
   "cell_type": "code",
   "execution_count": 202,
   "id": "ecbd5e8d-5225-40de-87e6-954b13b18634",
   "metadata": {},
   "outputs": [
    {
     "data": {
      "text/plain": [
       "array([[[1. , 2. , 3. ],\n",
       "        [4. , 0.5, 6. ]]])"
      ]
     },
     "execution_count": 202,
     "metadata": {},
     "output_type": "execute_result"
    }
   ],
   "source": [
    "a2"
   ]
  },
  {
   "attachments": {
    "faf86458-ece8-428d-9a75-67c85b617615.png": {
     "image/png": "[encoded data removed]"
    }
   },
   "cell_type": "markdown",
   "id": "af157748-05ae-4820-b324-f112008e9b04",
   "metadata": {},
   "source": [
    "### What is ndim (number of dimensions) in Python? : (تعداد ابعاد)\n",
    "-https://dev.to/biraj21/introduction-to-numpy-31md\n",
    "\n",
    "- ndim represents the number of dimensions (axes) of the ndarray. \n",
    "- shape is a tuple of integers representing the size of the ndarray in each dimension. \n",
    "- size is the total number of elements in the ndarray. It is equal to the product of elements of the shape.\n",
    "\n",
    "### We will now look at the following:\n",
    "\n",
    "- Scalars (0D Arrays) : A scalar is just a single value.------>np.array(21) \n",
    "- Vectors (1D Arrays) : A vector is a collection of values.--->np.array([-1, 2, 7, 9, 2])\n",
    "- Matrices (2D Arrays): A matrix is a collection of vectors.-->np.array([[1, 2, 3],[5, 6, 7]])\n",
    "- 3D Arrays\n",
    "- 4D Arrays\n",
    "\n",
    "![image.png](attachment:faf86458-ece8-428d-9a75-67c85b617615.png)\n",
    "\n"
   ]
  },
  {
   "cell_type": "code",
   "execution_count": 203,
   "id": "7e9cd6e1-6be4-4ad1-9734-bbb680419957",
   "metadata": {},
   "outputs": [
    {
     "name": "stdout",
     "output_type": "stream",
     "text": [
      "<class 'numpy.ndarray'>\n",
      "(3,)\n"
     ]
    }
   ],
   "source": [
    "### Create a One-dimensional NumPy array :\n",
    "\n",
    "import numpy as np\n",
    " \n",
    "n1 = np.array([10, 20, 30])\n",
    "print(type(n1))\n",
    "print(n1.shape)"
   ]
  },
  {
   "cell_type": "code",
   "execution_count": 204,
   "id": "7469a2c9-a12d-46b5-a4be-5426e941a9b7",
   "metadata": {},
   "outputs": [
    {
     "data": {
      "text/plain": [
       "1"
      ]
     },
     "execution_count": 204,
     "metadata": {},
     "output_type": "execute_result"
    }
   ],
   "source": [
    "n1.ndim"
   ]
  },
  {
   "cell_type": "code",
   "execution_count": 205,
   "id": "0d29e64c-c759-4246-b3f1-3263e5be0dd9",
   "metadata": {},
   "outputs": [
    {
     "name": "stdout",
     "output_type": "stream",
     "text": [
      "<class 'numpy.ndarray'>\n",
      "(2, 3)\n"
     ]
    }
   ],
   "source": [
    "### Create a Two-dimensional NumPy arra \n",
    "\n",
    "import numpy as np\n",
    " \n",
    "n2 = np.array([[1,3,5],[4,8,12]])\n",
    "print(type(n2))\n",
    "print(n2.shape)"
   ]
  },
  {
   "cell_type": "code",
   "execution_count": 206,
   "id": "b93a6fe2-48cb-478c-a5ae-b20af5a6de31",
   "metadata": {},
   "outputs": [
    {
     "data": {
      "text/plain": [
       "2"
      ]
     },
     "execution_count": 206,
     "metadata": {},
     "output_type": "execute_result"
    }
   ],
   "source": [
    "n2.ndim"
   ]
  },
  {
   "cell_type": "code",
   "execution_count": 207,
   "id": "64303ece-0a62-4260-aa1f-daaef504de22",
   "metadata": {
    "tags": []
   },
   "outputs": [
    {
     "name": "stdout",
     "output_type": "stream",
     "text": [
      "<class 'numpy.ndarray'>\n",
      "(2, 2, 3)\n"
     ]
    }
   ],
   "source": [
    "### Create a Three-dimensional NumPy array\n",
    "\n",
    "import numpy as np\n",
    " \n",
    "n3 = np.array([[[1,2,3],[4,5,6]],[[7,8,9],[10,11,12]]])\n",
    "print(type(n3))\n",
    "print(n3.shape)"
   ]
  },
  {
   "cell_type": "code",
   "execution_count": 208,
   "id": "a8dbe205-f1ce-4f68-bf84-895d15662620",
   "metadata": {},
   "outputs": [
    {
     "data": {
      "text/plain": [
       "3"
      ]
     },
     "execution_count": 208,
     "metadata": {},
     "output_type": "execute_result"
    }
   ],
   "source": [
    "n3.ndim"
   ]
  },
  {
   "cell_type": "code",
   "execution_count": 209,
   "id": "4c24b47c-c449-46e7-95f3-318a91f3f195",
   "metadata": {},
   "outputs": [
    {
     "data": {
      "text/plain": [
       "array([[[ 1,  2,  3],\n",
       "        [ 4,  5,  6]],\n",
       "\n",
       "       [[ 7,  8,  9],\n",
       "        [10, 11, 12]]])"
      ]
     },
     "execution_count": 209,
     "metadata": {},
     "output_type": "execute_result"
    }
   ],
   "source": [
    "n3"
   ]
  },
  {
   "cell_type": "code",
   "execution_count": 210,
   "id": "40b8cbe9-7054-4858-abf7-392d8a4806e4",
   "metadata": {},
   "outputs": [],
   "source": [
    "a3 = np.array([[[1,2,3] , [4,.5,6]],[[1,2,3] , [4,.5,6]],[[1,2,3] , [4,.5,6]]])"
   ]
  },
  {
   "cell_type": "code",
   "execution_count": 211,
   "id": "23da51ba-4a56-436d-8c9a-24a0413114b8",
   "metadata": {},
   "outputs": [
    {
     "data": {
      "text/plain": [
       "array([[[1. , 2. , 3. ],\n",
       "        [4. , 0.5, 6. ]],\n",
       "\n",
       "       [[1. , 2. , 3. ],\n",
       "        [4. , 0.5, 6. ]],\n",
       "\n",
       "       [[1. , 2. , 3. ],\n",
       "        [4. , 0.5, 6. ]]])"
      ]
     },
     "execution_count": 211,
     "metadata": {},
     "output_type": "execute_result"
    }
   ],
   "source": [
    "a3\n"
   ]
  },
  {
   "cell_type": "code",
   "execution_count": 212,
   "id": "e4c2e755-d362-4827-b7b5-95a0d316dc20",
   "metadata": {},
   "outputs": [
    {
     "name": "stdout",
     "output_type": "stream",
     "text": [
      "(3, 2, 3)\n"
     ]
    }
   ],
   "source": [
    "print(a3.shape)"
   ]
  },
  {
   "cell_type": "code",
   "execution_count": 213,
   "id": "59e12610-2d71-455d-b4b5-bd2599b8e3e7",
   "metadata": {},
   "outputs": [
    {
     "data": {
      "text/plain": [
       "3"
      ]
     },
     "execution_count": 213,
     "metadata": {},
     "output_type": "execute_result"
    }
   ],
   "source": [
    "a3.ndim"
   ]
  },
  {
   "cell_type": "markdown",
   "id": "4124724c-c80c-480a-8235-4c26f1852428",
   "metadata": {},
   "source": [
    "### NumPy: asarray() function :\n",
    "\n",
    "- Syntax : numpy.asarray(a, dtype=None, order=None, *, like=None)\n",
    "- a = array_like Input data, in any form that can be converted to an array.\n",
    "- dtype=None = optional\n",
    "- It can be of list, lists of tuples, tuples, tuples of \"tuples\", tuples of lists and ndarrays.\n",
    "- اگر بخواهید تغییری در مقادیر درایه‌ها داشته باشید، می‌توانید از این تابع استفاده کنید   \n",
    "- برای تبدیل داده‌ی ورودی به آرایه استفاده می‌شود. ورودی می‌تواند به شکل لیست، تاپل .. باشد   "
   ]
  },
  {
   "cell_type": "code",
   "execution_count": 214,
   "id": "92dcd93f-8abc-43c2-b73e-cfa22362a461",
   "metadata": {},
   "outputs": [],
   "source": [
    "l = [1,2,3,4]"
   ]
  },
  {
   "cell_type": "code",
   "execution_count": 215,
   "id": "fdc66660-4a0f-4a64-b237-7faadee29bbe",
   "metadata": {},
   "outputs": [
    {
     "data": {
      "text/plain": [
       "array([1, 2, 3, 4])"
      ]
     },
     "execution_count": 215,
     "metadata": {},
     "output_type": "execute_result"
    }
   ],
   "source": [
    "np.asarray(l)"
   ]
  },
  {
   "cell_type": "markdown",
   "id": "da59d9d6-67e4-4538-8f95-3a4757958bac",
   "metadata": {},
   "source": [
    "### numpy.matrix() in Python :\n",
    "\n",
    "-Returns a matrix from an array-like object, or from a string of data. A matrix is a specialized 2-D array that retains its 2-D nature through operations."
   ]
  },
  {
   "cell_type": "code",
   "execution_count": 216,
   "id": "1eb3b20d-bff9-4c6b-b53e-1efaf8982495",
   "metadata": {},
   "outputs": [],
   "source": [
    "l = [1,2,3,4]"
   ]
  },
  {
   "cell_type": "code",
   "execution_count": 217,
   "id": "85237029-49c5-4da8-b614-70a039067f34",
   "metadata": {},
   "outputs": [],
   "source": [
    "l00 = np.matrix(l)"
   ]
  },
  {
   "cell_type": "code",
   "execution_count": 218,
   "id": "2490c54a-ad0a-43b8-8228-4caeb8174fcc",
   "metadata": {},
   "outputs": [
    {
     "name": "stdout",
     "output_type": "stream",
     "text": [
      "(1, 4)\n"
     ]
    }
   ],
   "source": [
    "print(l00.shape)"
   ]
  },
  {
   "cell_type": "code",
   "execution_count": 219,
   "id": "8662eaa4-7665-4d5c-94c2-9362e22fca3c",
   "metadata": {},
   "outputs": [
    {
     "data": {
      "text/plain": [
       "matrix([[1, 2],\n",
       "        [3, 4]])"
      ]
     },
     "execution_count": 219,
     "metadata": {},
     "output_type": "execute_result"
    }
   ],
   "source": [
    "a00 = np.matrix('1 2; 3 4')\n",
    "a00"
   ]
  },
  {
   "cell_type": "code",
   "execution_count": 220,
   "id": "2989f995-f502-4517-b4d2-4cfd8d7a374a",
   "metadata": {},
   "outputs": [
    {
     "name": "stdout",
     "output_type": "stream",
     "text": [
      "(2, 2)\n"
     ]
    }
   ],
   "source": [
    "print(a00.shape)"
   ]
  },
  {
   "cell_type": "code",
   "execution_count": 221,
   "id": "8f2244b9-6ebf-4527-bb39-cac66f4ae872",
   "metadata": {},
   "outputs": [
    {
     "data": {
      "text/plain": [
       "matrix([[1, 2, 3],\n",
       "        [4, 5, 6],\n",
       "        [7, 8, 9]])"
      ]
     },
     "execution_count": 221,
     "metadata": {},
     "output_type": "execute_result"
    }
   ],
   "source": [
    "a11 = np.matrix('1 2 3; 4 5 6; 7,8,9')\n",
    "a11"
   ]
  },
  {
   "cell_type": "code",
   "execution_count": 222,
   "id": "e3254275-0d25-4c69-834f-bcf6aaf5f90d",
   "metadata": {},
   "outputs": [
    {
     "name": "stdout",
     "output_type": "stream",
     "text": [
      "(3, 3)\n"
     ]
    }
   ],
   "source": [
    "print(a11.shape)"
   ]
  },
  {
   "cell_type": "markdown",
   "id": "9d83fe1e-e24f-4e60-8758-e95cd2c5d8b7",
   "metadata": {},
   "source": [
    "## Note :\n",
    "### What is the difference between NumPy array and NumPy Asarray and NumPy matrix?\n",
    "\n",
    "- The NumPy ndarray class is used to represent both matrices and vectors. A vector is an array with a single dimension (there's no difference   between row and column vectors).\n",
    "- Asarray() function is used when we want to convert input to an array.\n",
    "- A matrix refers to an array with Minimum 2 dimensions or 3 dimensions... . For 3-D or higher dimensional arrays, the term tensor is also commonly used."
   ]
  },
  {
   "cell_type": "code",
   "execution_count": 223,
   "id": "25926381-c9fe-4e89-97e0-b6b218f26859",
   "metadata": {},
   "outputs": [],
   "source": [
    "l = [1.5, 2.0, 3.1, 4.4, 5]"
   ]
  },
  {
   "cell_type": "code",
   "execution_count": 224,
   "id": "683da4e6-1c41-49c1-a3e5-11b11e9e8404",
   "metadata": {},
   "outputs": [],
   "source": [
    "a = np.asarray(l)"
   ]
  },
  {
   "cell_type": "code",
   "execution_count": 225,
   "id": "e5444279-2862-45ec-a327-fc1db9b8bf37",
   "metadata": {},
   "outputs": [],
   "source": [
    "m = np.matrix(l)"
   ]
  },
  {
   "cell_type": "markdown",
   "id": "17e36058-73a9-4de2-a1a8-fe6476355e41",
   "metadata": {},
   "source": [
    "### What is Asanyarray ?\n",
    "\n",
    "- asanyarray() function is used when we want to convert input to an array but it pass ndarray subclasses through. Input can be scalars, lists, lists of tuples, tuples, tuples of tuples, tuples of lists and ndarrays. \n",
    "- Syntax : numpy.asanyarray(arr, dtype=None, order=None)"
   ]
  },
  {
   "cell_type": "markdown",
   "id": "4625e74a-a755-47ae-838f-ae2084d81cb5",
   "metadata": {},
   "source": [
    "### Shallow Copy and Deep Copy in Python NumPy :  \n",
    "\n",
    "- Shallow copy: in this case, both the original array and the new array refer to the same memory location.\n",
    "- Deep copy: in this case, the new array is a standalone copy of the original array, and it refers to a new memory location."
   ]
  },
  {
   "cell_type": "markdown",
   "id": "3e48cadc-452f-4081-b131-99b088e8d436",
   "metadata": {
    "tags": []
   },
   "source": [
    "### Example to explain all  :"
   ]
  },
  {
   "cell_type": "code",
   "execution_count": 226,
   "id": "3e515777-d206-49d5-b592-4aa934ad5b7c",
   "metadata": {},
   "outputs": [],
   "source": [
    "import numpy as np"
   ]
  },
  {
   "cell_type": "code",
   "execution_count": 227,
   "id": "94e3ba37-59e4-4e74-a5ec-47c08b5fe839",
   "metadata": {},
   "outputs": [],
   "source": [
    "u = [1, 2, 3, 4, 5, 6]"
   ]
  },
  {
   "cell_type": "code",
   "execution_count": 228,
   "id": "c6f6484f-7b01-434a-a01d-aa8ba384aa33",
   "metadata": {},
   "outputs": [],
   "source": [
    "a = np.asarray(u)"
   ]
  },
  {
   "cell_type": "code",
   "execution_count": 229,
   "id": "47ec5c90-e0a4-49a4-b4a6-a9425691e032",
   "metadata": {},
   "outputs": [
    {
     "name": "stdout",
     "output_type": "stream",
     "text": [
      "<class 'numpy.ndarray'>\n"
     ]
    }
   ],
   "source": [
    "print(type(a))"
   ]
  },
  {
   "cell_type": "code",
   "execution_count": 230,
   "id": "9b7f913b-6bc7-49a6-b9ff-bd6b6a684b05",
   "metadata": {},
   "outputs": [],
   "source": [
    "m = np.matrix(u)"
   ]
  },
  {
   "cell_type": "code",
   "execution_count": 231,
   "id": "8e0d8176-3a0d-497a-8301-2e073b4baac1",
   "metadata": {},
   "outputs": [
    {
     "name": "stdout",
     "output_type": "stream",
     "text": [
      "<class 'numpy.matrix'>\n"
     ]
    }
   ],
   "source": [
    "print(type(m))"
   ]
  },
  {
   "cell_type": "code",
   "execution_count": 232,
   "id": "457aa263-d1ac-4e07-b427-f6ae157b4587",
   "metadata": {},
   "outputs": [
    {
     "data": {
      "text/plain": [
       "array([1, 2, 3, 4, 5, 6])"
      ]
     },
     "execution_count": 232,
     "metadata": {},
     "output_type": "execute_result"
    }
   ],
   "source": [
    "np.asanyarray(u)"
   ]
  },
  {
   "cell_type": "code",
   "execution_count": 233,
   "id": "40f9d546-b268-4271-b137-4f04c24f76b5",
   "metadata": {},
   "outputs": [
    {
     "data": {
      "text/plain": [
       "matrix([[1, 2, 3, 4, 5, 6]])"
      ]
     },
     "execution_count": 233,
     "metadata": {},
     "output_type": "execute_result"
    }
   ],
   "source": [
    "np.asanyarray(m)"
   ]
  },
  {
   "cell_type": "code",
   "execution_count": 234,
   "id": "78b02fb0-6635-40e0-b2d8-00eb4a7377c5",
   "metadata": {},
   "outputs": [],
   "source": [
    "##Lets  Shallow Copy and Deep Copy :\n",
    "\n",
    "a1 = a\n"
   ]
  },
  {
   "cell_type": "code",
   "execution_count": 235,
   "id": "a4e5ba6f-c34c-4ac9-9d77-05f3835b0b48",
   "metadata": {},
   "outputs": [
    {
     "data": {
      "text/plain": [
       "array([1, 2, 3, 4, 5, 6])"
      ]
     },
     "execution_count": 235,
     "metadata": {},
     "output_type": "execute_result"
    }
   ],
   "source": [
    "a1"
   ]
  },
  {
   "cell_type": "code",
   "execution_count": 236,
   "id": "358fcec2-af7c-4564-99df-cbf00d5ae6e3",
   "metadata": {},
   "outputs": [
    {
     "data": {
      "text/plain": [
       "array([1, 2, 3, 4, 5, 6])"
      ]
     },
     "execution_count": 236,
     "metadata": {},
     "output_type": "execute_result"
    }
   ],
   "source": [
    "a"
   ]
  },
  {
   "cell_type": "code",
   "execution_count": 237,
   "id": "039345a3-4291-4cbc-b4e4-5c905573621f",
   "metadata": {},
   "outputs": [],
   "source": [
    "### Change a value of ----------> \" a \" by 0 \n",
    "\n",
    "a[0] = 10"
   ]
  },
  {
   "cell_type": "code",
   "execution_count": 238,
   "id": "42bf8f22-f638-4bac-8ebe-9f8f75af8afb",
   "metadata": {},
   "outputs": [
    {
     "data": {
      "text/plain": [
       "array([10,  2,  3,  4,  5,  6])"
      ]
     },
     "execution_count": 238,
     "metadata": {},
     "output_type": "execute_result"
    }
   ],
   "source": [
    "a"
   ]
  },
  {
   "cell_type": "code",
   "execution_count": 239,
   "id": "84f16cbd-4610-423d-8d21-2e70384f0821",
   "metadata": {
    "tags": []
   },
   "outputs": [
    {
     "data": {
      "text/plain": [
       "array([10,  2,  3,  4,  5,  6])"
      ]
     },
     "execution_count": 239,
     "metadata": {},
     "output_type": "execute_result"
    }
   ],
   "source": [
    "a1"
   ]
  },
  {
   "cell_type": "code",
   "execution_count": 240,
   "id": "99dbd097-6f3a-4d73-80f5-88f6e69d05a7",
   "metadata": {},
   "outputs": [],
   "source": [
    "a1[3] = 40"
   ]
  },
  {
   "cell_type": "code",
   "execution_count": 241,
   "id": "15a41099-e7b3-438b-afb7-3bead6210a50",
   "metadata": {},
   "outputs": [
    {
     "data": {
      "text/plain": [
       "array([10,  2,  3, 40,  5,  6])"
      ]
     },
     "execution_count": 241,
     "metadata": {},
     "output_type": "execute_result"
    }
   ],
   "source": [
    "a1"
   ]
  },
  {
   "cell_type": "code",
   "execution_count": 242,
   "id": "a5574d3b-e041-4aca-b9bc-f8351680810e",
   "metadata": {},
   "outputs": [
    {
     "data": {
      "text/plain": [
       "array([10,  2,  3, 40,  5,  6])"
      ]
     },
     "execution_count": 242,
     "metadata": {},
     "output_type": "execute_result"
    }
   ],
   "source": [
    "a"
   ]
  },
  {
   "cell_type": "markdown",
   "id": "99443f94-ea24-4c11-ac0f-0f7b8c0ca278",
   "metadata": {},
   "source": [
    "### First example means :  Shallow Copy\n",
    "### Second example means : Deep Copy  "
   ]
  },
  {
   "cell_type": "code",
   "execution_count": 243,
   "id": "3d3493d0-aea5-406d-958a-83299714cd1a",
   "metadata": {},
   "outputs": [],
   "source": [
    "## Copy a2 data from a :\n",
    "\n",
    "a2 = np.copy(a)"
   ]
  },
  {
   "cell_type": "code",
   "execution_count": 244,
   "id": "350dc5fb-4634-4d0f-aa88-3a6e3ef51742",
   "metadata": {},
   "outputs": [
    {
     "data": {
      "text/plain": [
       "array([10,  2,  3, 40,  5,  6])"
      ]
     },
     "execution_count": 244,
     "metadata": {},
     "output_type": "execute_result"
    }
   ],
   "source": [
    "a2"
   ]
  },
  {
   "cell_type": "code",
   "execution_count": 245,
   "id": "cda43299-fac6-4a04-84f4-54aa03de1a5f",
   "metadata": {},
   "outputs": [],
   "source": [
    " a2[2] =  30"
   ]
  },
  {
   "cell_type": "code",
   "execution_count": 246,
   "id": "1b7c78fa-275d-4eaf-97ab-e9b4dd72a90b",
   "metadata": {},
   "outputs": [
    {
     "data": {
      "text/plain": [
       "array([10,  2, 30, 40,  5,  6])"
      ]
     },
     "execution_count": 246,
     "metadata": {},
     "output_type": "execute_result"
    }
   ],
   "source": [
    "a2"
   ]
  },
  {
   "cell_type": "markdown",
   "id": "c3004bf0-6eb6-4900-9316-f5394707d487",
   "metadata": {},
   "source": [
    "## Note : a2 Not equal to a ."
   ]
  },
  {
   "cell_type": "code",
   "execution_count": 247,
   "id": "da933165-dcd8-474b-bb0a-da06394d8226",
   "metadata": {
    "tags": []
   },
   "outputs": [
    {
     "data": {
      "text/plain": [
       "array([10,  2,  3, 40,  5,  6])"
      ]
     },
     "execution_count": 247,
     "metadata": {},
     "output_type": "execute_result"
    }
   ],
   "source": [
    "a"
   ]
  },
  {
   "cell_type": "markdown",
   "id": "6e05c006-6f1f-42ce-85e7-b6f49798f9b9",
   "metadata": {
    "tags": []
   },
   "source": [
    "### shallow copy: \n",
    "-In case shallow copy if you change value in one variable it will reflect a change into other variable. for example "
   ]
  },
  {
   "cell_type": "code",
   "execution_count": 248,
   "id": "3eecb527-10c0-48ed-bcad-78166edd363c",
   "metadata": {},
   "outputs": [],
   "source": [
    "import numpy as np\n",
    "a = np.array([1,2,3,4])"
   ]
  },
  {
   "cell_type": "code",
   "execution_count": 249,
   "id": "2d899a8b-fbfd-4194-896d-b1e82e5e12c8",
   "metadata": {},
   "outputs": [],
   "source": [
    "b = a"
   ]
  },
  {
   "cell_type": "code",
   "execution_count": 250,
   "id": "8b1bcaf6-ea6e-45a3-92a2-8f0bee982f22",
   "metadata": {},
   "outputs": [
    {
     "data": {
      "text/plain": [
       "array([1, 2, 3, 4])"
      ]
     },
     "execution_count": 250,
     "metadata": {},
     "output_type": "execute_result"
    }
   ],
   "source": [
    "a"
   ]
  },
  {
   "cell_type": "code",
   "execution_count": 251,
   "id": "6622085d-52d3-4607-987a-115e8dc483d2",
   "metadata": {},
   "outputs": [
    {
     "data": {
      "text/plain": [
       "array([1, 2, 3, 4])"
      ]
     },
     "execution_count": 251,
     "metadata": {},
     "output_type": "execute_result"
    }
   ],
   "source": [
    "b"
   ]
  },
  {
   "cell_type": "code",
   "execution_count": 252,
   "id": "eb6a7a5b-d935-4a66-94e5-1bec06f21457",
   "metadata": {},
   "outputs": [
    {
     "name": "stdout",
     "output_type": "stream",
     "text": [
      "[353   2   3   4]\n",
      "[353   2   3   4]\n"
     ]
    }
   ],
   "source": [
    "b[0]=353    ## value in one variable it will reflect a change into other variable\n",
    "print(b)\n",
    "print(a)  "
   ]
  },
  {
   "cell_type": "markdown",
   "id": "e5689ade-ee1b-4a29-94e2-998e9c47de9a",
   "metadata": {},
   "source": [
    "### Deep copy: \n",
    "\n",
    "- In case Deep copy if you change value in one variable it will not reflect a change into other variable. for example : "
   ]
  },
  {
   "cell_type": "markdown",
   "id": "df33a13e-2744-4249-b3dd-af67fbcc11c9",
   "metadata": {},
   "source": [
    "### NumPy: copy() function:\n",
    "\n",
    "    - The copy() function is used to get an array copy of an given object. \n",
    "    - Syntax: numpy.copy(a, order='K')\n"
   ]
  },
  {
   "cell_type": "code",
   "execution_count": 253,
   "id": "fa8456e5-1d48-4d4f-baa2-4a2381f5a58e",
   "metadata": {},
   "outputs": [
    {
     "data": {
      "text/plain": [
       "True"
      ]
     },
     "execution_count": 253,
     "metadata": {},
     "output_type": "execute_result"
    }
   ],
   "source": [
    "## example numpy.copy :\n",
    "\n",
    "import numpy as np\n",
    "a = np.array ( [2, 3, 4])\n",
    "b = a\n",
    "c = np.copy(a)\n",
    "a[0] = 15\n",
    "b[0] == b[0]"
   ]
  },
  {
   "cell_type": "code",
   "execution_count": 254,
   "id": "551301b2-cfa5-4cc6-8c15-7cf3e5a3aa7c",
   "metadata": {},
   "outputs": [],
   "source": [
    "import numpy as np\n",
    "a = np.array([1,2,3,4])"
   ]
  },
  {
   "cell_type": "code",
   "execution_count": 255,
   "id": "5d44699c-5276-47d1-a025-31021091ef3c",
   "metadata": {},
   "outputs": [],
   "source": [
    "c = np.copy(a)"
   ]
  },
  {
   "cell_type": "code",
   "execution_count": 256,
   "id": "2e49afc0-ca88-48b8-a6de-231f45d94f12",
   "metadata": {},
   "outputs": [
    {
     "name": "stdout",
     "output_type": "stream",
     "text": [
      "[111   2   3   4]\n"
     ]
    }
   ],
   "source": [
    "c[0]=111\n",
    "print(c)"
   ]
  },
  {
   "cell_type": "markdown",
   "id": "eeb19175-0d70-461f-b90b-4003076011e6",
   "metadata": {},
   "source": [
    "### numpy.fromfunction() function :\n",
    "\n",
    "    - Syntax : numpy.fromfunction((function, shape, **kwargs\n",
    "    - The fromfunction() function is used to construct an array by executing a function over each coordinate.\n",
    "    - The resulting array therefore has a value fn(x, y, z) at coordinate (x, y, z).\n"
   ]
  },
  {
   "cell_type": "code",
   "execution_count": 257,
   "id": "023ce03b-7355-4c69-85d1-c947eba4e297",
   "metadata": {},
   "outputs": [],
   "source": [
    "import numpy as np"
   ]
  },
  {
   "cell_type": "code",
   "execution_count": 258,
   "id": "8f057276-85fe-40e4-9365-7b40f9bbaf85",
   "metadata": {},
   "outputs": [
    {
     "data": {
      "text/plain": [
       "array([[ True, False, False, False],\n",
       "       [False,  True, False, False],\n",
       "       [False, False,  True, False]])"
      ]
     },
     "execution_count": 258,
     "metadata": {},
     "output_type": "execute_result"
    }
   ],
   "source": [
    "np.fromfunction(lambda i, j: i == j, (3, 4), dtype=int)"
   ]
  },
  {
   "cell_type": "code",
   "execution_count": 259,
   "id": "63888f8e-d3b7-40af-9222-c5bb5b9a6cd7",
   "metadata": {},
   "outputs": [
    {
     "data": {
      "text/plain": [
       "array([[0, 1, 2, 3],\n",
       "       [1, 2, 3, 4],\n",
       "       [2, 3, 4, 5]])"
      ]
     },
     "execution_count": 259,
     "metadata": {},
     "output_type": "execute_result"
    }
   ],
   "source": [
    "### https://slideplayer.com/slide/9143846/\n",
    "\n",
    "np.fromfunction(lambda i, j: i + j, (3, 4), dtype=int)"
   ]
  },
  {
   "cell_type": "code",
   "execution_count": 260,
   "id": "2c5d9df1-84fb-4267-95c2-6caacf7c5c9b",
   "metadata": {},
   "outputs": [
    {
     "data": {
      "text/plain": [
       "array([[0, 1, 2, 3],\n",
       "       [1, 2, 3, 4],\n",
       "       [2, 3, 4, 5]])"
      ]
     },
     "execution_count": 260,
     "metadata": {},
     "output_type": "execute_result"
    }
   ],
   "source": [
    "def func(x,y):\n",
    "    return x+y\n",
    "\n",
    "np.fromfunction(func , (3,4), dtype=int)"
   ]
  },
  {
   "cell_type": "markdown",
   "id": "1f6c2c53-3bf5-489d-ab46-3186a237c703",
   "metadata": {},
   "source": [
    "### numpy.random.rand() : \n",
    "\n",
    "     -The numpy.random.rand() function creates an array of specified shape and fills it with random values.\n",
    "     -Syntax : random.rand(d0, d1, ..., dn) "
   ]
  },
  {
   "cell_type": "code",
   "execution_count": 261,
   "id": "2549337a-83fd-4515-a4dd-7d2d8cf916a3",
   "metadata": {},
   "outputs": [
    {
     "data": {
      "text/plain": [
       "array([[0.69285614, 0.58301125, 0.4486345 , 0.30713983, 0.64262502],\n",
       "       [0.09025856, 0.31327146, 0.12446503, 0.22709411, 0.94725316]])"
      ]
     },
     "execution_count": 261,
     "metadata": {},
     "output_type": "execute_result"
    }
   ],
   "source": [
    "np.random.rand(2,5)"
   ]
  },
  {
   "cell_type": "code",
   "execution_count": 262,
   "id": "6b99cc0c-c876-4f35-8588-12080e91389f",
   "metadata": {},
   "outputs": [
    {
     "data": {
      "text/plain": [
       "array([[[0.19755602, 0.10093555, 0.59797153],\n",
       "        [0.57516053, 0.38592641, 0.47747471],\n",
       "        [0.61124183, 0.02191672, 0.22048453],\n",
       "        [0.78252851, 0.80100932, 0.86726983],\n",
       "        [0.80819327, 0.60613921, 0.65299825]],\n",
       "\n",
       "       [[0.26692341, 0.61626957, 0.94658276],\n",
       "        [0.38594961, 0.30037988, 0.0017812 ],\n",
       "        [0.20771208, 0.8099371 , 0.95122866],\n",
       "        [0.80655525, 0.91377291, 0.84712526],\n",
       "        [0.92855194, 0.83096699, 0.3679406 ]]])"
      ]
     },
     "execution_count": 262,
     "metadata": {},
     "output_type": "execute_result"
    }
   ],
   "source": [
    "np.random.rand(2,5,3)"
   ]
  },
  {
   "cell_type": "code",
   "execution_count": 263,
   "id": "c4120be7-e60c-4a28-be98-48406a30f06f",
   "metadata": {},
   "outputs": [
    {
     "data": {
      "text/plain": [
       "array([[[[0.29454605, 0.06782991],\n",
       "         [0.00327137, 0.28165963]],\n",
       "\n",
       "        [[0.03862797, 0.65669204],\n",
       "         [0.86104603, 0.91829749]],\n",
       "\n",
       "        [[0.10994818, 0.02531204],\n",
       "         [0.38934453, 0.96490532]]],\n",
       "\n",
       "\n",
       "       [[[0.27522556, 0.60729616],\n",
       "         [0.26891509, 0.66988384]],\n",
       "\n",
       "        [[0.5593553 , 0.51946398],\n",
       "         [0.33618703, 0.78004168]],\n",
       "\n",
       "        [[0.48731978, 0.8868838 ],\n",
       "         [0.85079002, 0.20983471]]]])"
      ]
     },
     "execution_count": 263,
     "metadata": {},
     "output_type": "execute_result"
    }
   ],
   "source": [
    "np.random.rand(2,3,2,2)"
   ]
  },
  {
   "cell_type": "code",
   "execution_count": 264,
   "id": "aeb100f8-1757-4525-b6e4-c01592a2aa56",
   "metadata": {},
   "outputs": [
    {
     "data": {
      "text/plain": [
       "array([[[0.57979563, 0.02694706, 0.4037177 , 0.22517132],\n",
       "        [0.64668602, 0.14535559, 0.77007118, 0.01305588],\n",
       "        [0.78153672, 0.48342154, 0.94860935, 0.39084438],\n",
       "        [0.63217236, 0.76484878, 0.1902905 , 0.92951511]]])"
      ]
     },
     "execution_count": 264,
     "metadata": {},
     "output_type": "execute_result"
    }
   ],
   "source": [
    "np.random.rand(1,4,4)"
   ]
  },
  {
   "cell_type": "markdown",
   "id": "af993a9a-25a6-4607-9041-aa4e92c1faa1",
   "metadata": {},
   "source": [
    "### numpy.random.randn() in Python :\n",
    "\n",
    "    - The numpy.random.randn() function creates an array of specified shape and fills it with random values as per standard normal distribution.\n",
    "    - Syntax : numpy.random.randn(d0, d1, ..., dn)\n",
    "    - If positive arguments are provided, randn generates an array of shape (d0, d1, …, dn), filled with random floats sampled from a univariate “normal” (Gaussian) distribution of mean \" 0 \" and variance \" 1 \" (if any of the d_i are floats, they are first converted to integers by truncation)\n",
    "    "
   ]
  },
  {
   "cell_type": "code",
   "execution_count": 265,
   "id": "0576a75f-5a21-44f0-abb7-3d2ba340623b",
   "metadata": {},
   "outputs": [
    {
     "data": {
      "text/plain": [
       "array([-0.45568394,  0.79948586,  0.31592886,  0.58191015, -0.1668334 ,\n",
       "        0.40571725])"
      ]
     },
     "execution_count": 265,
     "metadata": {},
     "output_type": "execute_result"
    }
   ],
   "source": [
    "### Get 1-D NumPy Array of Random Values :\n",
    "\n",
    "np.random.randn(6)"
   ]
  },
  {
   "cell_type": "code",
   "execution_count": 266,
   "id": "d1b5242d-fbd4-4a8f-81c1-797cc2de6201",
   "metadata": {},
   "outputs": [
    {
     "data": {
      "text/plain": [
       "array([[-0.04903783,  0.82678327, -1.77843768,  0.70774764, -0.86093998],\n",
       "       [ 0.32040876, -1.69797826, -0.4177126 , -2.23649352, -0.18971697]])"
      ]
     },
     "execution_count": 266,
     "metadata": {},
     "output_type": "execute_result"
    }
   ],
   "source": [
    "### Get 2-D NumPy Array of Random Values :\n",
    "\n",
    "np.random.randn(2,5)"
   ]
  },
  {
   "cell_type": "code",
   "execution_count": 267,
   "id": "2b758d07-f9f3-498b-80f8-b8f95562d326",
   "metadata": {},
   "outputs": [
    {
     "data": {
      "text/plain": [
       "array([[[-0.87347283, -0.02376803, -2.43160024, -0.04947228],\n",
       "        [-0.1987572 , -0.58690832, -0.74113794,  0.09581759]],\n",
       "\n",
       "       [[ 0.81702194, -0.14595501, -0.27232713,  0.31699394],\n",
       "        [-1.02913283, -0.15768946,  0.87152128,  0.2507351 ]],\n",
       "\n",
       "       [[-1.15094588, -0.67995197,  1.86947343, -1.41971232],\n",
       "        [-1.76236501, -0.13019931,  0.85858399,  0.25238257]],\n",
       "\n",
       "       [[ 0.22021565,  0.2582741 , -0.64833597,  1.32014113],\n",
       "        [-0.99308995, -1.29557355,  0.71560517, -0.37670977]],\n",
       "\n",
       "       [[-0.02885227,  0.19325673, -1.9307114 , -0.04094903],\n",
       "        [ 1.16772599,  0.15776152, -0.36322925, -1.11664521]]])"
      ]
     },
     "execution_count": 267,
     "metadata": {},
     "output_type": "execute_result"
    }
   ],
   "source": [
    "### Get 3-D NumPy Array of Random Values :\n",
    "\n",
    "np.random.randn(5,2,4)"
   ]
  },
  {
   "cell_type": "code",
   "execution_count": 268,
   "id": "4873bc7f-b43d-4055-b2e2-4e2b90a60853",
   "metadata": {},
   "outputs": [
    {
     "data": {
      "text/plain": [
       "array([[[-0.62653604, -1.51883639, -0.87892861, -1.07707665],\n",
       "        [-0.28614831,  0.37626591, -1.22355503, -0.16743092],\n",
       "        [-0.07072416, -0.12595127,  0.13268008, -1.77035199],\n",
       "        [ 1.12800156, -2.79453637,  0.14900786,  0.29399671]],\n",
       "\n",
       "       [[ 1.41621827, -0.20879506, -0.09849021,  2.13436861],\n",
       "        [ 0.68192141,  0.59137545, -0.25774261, -0.77014681],\n",
       "        [ 0.42732468, -0.22612994,  0.55922527,  0.1152576 ],\n",
       "        [-0.72277901,  0.7072917 , -0.34194563,  0.5902913 ]],\n",
       "\n",
       "       [[ 0.70936408,  0.6424624 ,  0.26643074, -1.29677088],\n",
       "        [-2.51277011,  0.04509277, -0.11794216, -0.48865457],\n",
       "        [-1.26718836, -0.47861663,  0.23046954, -0.28634515],\n",
       "        [-0.62430511,  1.10558816, -0.86717971,  0.22778725]]])"
      ]
     },
     "execution_count": 268,
     "metadata": {},
     "output_type": "execute_result"
    }
   ],
   "source": [
    "np.random.randn(3,4,4)"
   ]
  },
  {
   "cell_type": "markdown",
   "id": "3a86f340-0401-458a-8ef4-cedcbb463f26",
   "metadata": {},
   "source": [
    "### NumPy random.randint() :\n",
    "\n",
    "    -Syntax : numpy.random.randint(low, high=None, size=None, dtype=’l’)\n",
    "    - low : [int] Lowest (signed) integer to be drawn from the distribution.But, it works as a highest integer in the sample if high=None.\n",
    "    - high : [int, optional] Largest (signed) integer to be drawn from the distribution.\n",
    "    - size : [int or tuple of ints, optional] Output shape. If the given shape is, e.g., (m, n, k), then m * n * k samples are drawn. Default is None, in which case a single value is returned.\n",
    "    - dtype : [optional] Desired output data-type.\n",
    "\n",
    "    - Return : Array of random integers in the interval [low, high) or a single such random int if size not provided."
   ]
  },
  {
   "cell_type": "code",
   "execution_count": 269,
   "id": "126fdf46-b2e0-4a28-8d76-68ee5ac49616",
   "metadata": {},
   "outputs": [
    {
     "data": {
      "text/plain": [
       "array([2, 3, 3, 3, 1, 4, 4, 1])"
      ]
     },
     "execution_count": 269,
     "metadata": {},
     "output_type": "execute_result"
    }
   ],
   "source": [
    "np.random.randint(low=1, high=6, size = 8)"
   ]
  },
  {
   "cell_type": "code",
   "execution_count": 270,
   "id": "8423671a-b172-499f-871c-f8717e518a9d",
   "metadata": {},
   "outputs": [],
   "source": [
    "d14 = np.random.randint(0,10,(4,4))"
   ]
  },
  {
   "cell_type": "code",
   "execution_count": 271,
   "id": "34ac5090-1d46-4732-bfcb-2d629d914c64",
   "metadata": {},
   "outputs": [
    {
     "data": {
      "text/html": [
       "<div>\n",
       "<style scoped>\n",
       "    .dataframe tbody tr th:only-of-type {\n",
       "        vertical-align: middle;\n",
       "    }\n",
       "\n",
       "    .dataframe tbody tr th {\n",
       "        vertical-align: top;\n",
       "    }\n",
       "\n",
       "    .dataframe thead th {\n",
       "        text-align: right;\n",
       "    }\n",
       "</style>\n",
       "<table border=\"1\" class=\"dataframe\">\n",
       "  <thead>\n",
       "    <tr style=\"text-align: right;\">\n",
       "      <th></th>\n",
       "      <th>0</th>\n",
       "      <th>1</th>\n",
       "      <th>2</th>\n",
       "      <th>3</th>\n",
       "    </tr>\n",
       "  </thead>\n",
       "  <tbody>\n",
       "    <tr>\n",
       "      <th>0</th>\n",
       "      <td>9</td>\n",
       "      <td>1</td>\n",
       "      <td>5</td>\n",
       "      <td>5</td>\n",
       "    </tr>\n",
       "    <tr>\n",
       "      <th>1</th>\n",
       "      <td>0</td>\n",
       "      <td>8</td>\n",
       "      <td>7</td>\n",
       "      <td>6</td>\n",
       "    </tr>\n",
       "    <tr>\n",
       "      <th>2</th>\n",
       "      <td>4</td>\n",
       "      <td>2</td>\n",
       "      <td>2</td>\n",
       "      <td>3</td>\n",
       "    </tr>\n",
       "    <tr>\n",
       "      <th>3</th>\n",
       "      <td>3</td>\n",
       "      <td>4</td>\n",
       "      <td>1</td>\n",
       "      <td>5</td>\n",
       "    </tr>\n",
       "  </tbody>\n",
       "</table>\n",
       "</div>"
      ],
      "text/plain": [
       "   0  1  2  3\n",
       "0  9  1  5  5\n",
       "1  0  8  7  6\n",
       "2  4  2  2  3\n",
       "3  3  4  1  5"
      ]
     },
     "execution_count": 271,
     "metadata": {},
     "output_type": "execute_result"
    }
   ],
   "source": [
    "import pandas as pd\n",
    "pd.DataFrame(d14)"
   ]
  },
  {
   "cell_type": "code",
   "execution_count": 274,
   "id": "5a6e91b4-8015-4266-ad1c-543f18653e93",
   "metadata": {},
   "outputs": [],
   "source": [
    "### 3D data :\n",
    "\n",
    "d15 = np.random.randint(0,10,(4,4,2))"
   ]
  },
  {
   "cell_type": "code",
   "execution_count": 275,
   "id": "8539415d-2558-4592-952f-43e4ac1d37bf",
   "metadata": {},
   "outputs": [
    {
     "data": {
      "text/plain": [
       "array([[[4, 5],\n",
       "        [5, 2],\n",
       "        [8, 0],\n",
       "        [4, 7]],\n",
       "\n",
       "       [[6, 5],\n",
       "        [3, 6],\n",
       "        [5, 1],\n",
       "        [5, 5]],\n",
       "\n",
       "       [[7, 8],\n",
       "        [3, 4],\n",
       "        [9, 8],\n",
       "        [7, 1]],\n",
       "\n",
       "       [[5, 0],\n",
       "        [7, 2],\n",
       "        [6, 2],\n",
       "        [5, 8]]])"
      ]
     },
     "execution_count": 275,
     "metadata": {},
     "output_type": "execute_result"
    }
   ],
   "source": [
    "d15"
   ]
  },
  {
   "cell_type": "code",
   "execution_count": 281,
   "id": "0179ef1e-506d-44d4-8dcc-61b5b8fa79e7",
   "metadata": {},
   "outputs": [],
   "source": [
    "import pandas as pd"
   ]
  },
  {
   "cell_type": "markdown",
   "id": "b293611a-0686-4e5d-962d-dbf236060755",
   "metadata": {},
   "source": [
    "  ### How to convert 3D data to \"pd.DataFrame\" ?? "
   ]
  },
  {
   "cell_type": "markdown",
   "id": "ac941967-a9fd-4a38-a00b-aafe000000c3",
   "metadata": {},
   "source": [
    "### NumPy Array Reshaping :\n",
    "\n",
    "- Reshaping means changing the shape of an array.\n",
    "- The shape of an array is the number of elements in each dimension."
   ]
  },
  {
   "cell_type": "code",
   "execution_count": 278,
   "id": "55b5cf20-ca00-48d9-bd9b-b7d6dcdac110",
   "metadata": {},
   "outputs": [
    {
     "name": "stdout",
     "output_type": "stream",
     "text": [
      "[[ 1  2  3]\n",
      " [ 4  5  6]\n",
      " [ 7  8  9]\n",
      " [10 11 12]]\n"
     ]
    }
   ],
   "source": [
    "### Reshape From 1-D array with 12 elements into a 2-D array :\n",
    "\n",
    "arr = np.array([1, 2, 3, 4, 5, 6, 7, 8, 9, 10, 11, 12])\n",
    "\n",
    "newarr = arr.reshape(4, 3)\n",
    "\n",
    "print(newarr)"
   ]
  },
  {
   "cell_type": "code",
   "execution_count": 279,
   "id": "7d950bc0-92be-4764-8d03-760e929e28ec",
   "metadata": {},
   "outputs": [
    {
     "name": "stdout",
     "output_type": "stream",
     "text": [
      "[[[ 1  2]\n",
      "  [ 3  4]\n",
      "  [ 5  6]]\n",
      "\n",
      " [[ 7  8]\n",
      "  [ 9 10]\n",
      "  [11 12]]]\n"
     ]
    }
   ],
   "source": [
    "### Reshape From 1-D to 3-D :\n",
    "\n",
    "arr = np.array([1, 2, 3, 4, 5, 6, 7, 8, 9, 10, 11, 12])\n",
    "\n",
    "newarr = arr.reshape(2, 3, 2)\n",
    "\n",
    "print(newarr)"
   ]
  },
  {
   "cell_type": "code",
   "execution_count": 284,
   "id": "ac7aa7af-f5a4-4dc8-880f-c1232270b975",
   "metadata": {},
   "outputs": [
    {
     "data": {
      "text/html": [
       "<div>\n",
       "<style scoped>\n",
       "    .dataframe tbody tr th:only-of-type {\n",
       "        vertical-align: middle;\n",
       "    }\n",
       "\n",
       "    .dataframe tbody tr th {\n",
       "        vertical-align: top;\n",
       "    }\n",
       "\n",
       "    .dataframe thead th {\n",
       "        text-align: right;\n",
       "    }\n",
       "</style>\n",
       "<table border=\"1\" class=\"dataframe\">\n",
       "  <thead>\n",
       "    <tr style=\"text-align: right;\">\n",
       "      <th></th>\n",
       "      <th>0</th>\n",
       "    </tr>\n",
       "  </thead>\n",
       "  <tbody>\n",
       "    <tr>\n",
       "      <th>0</th>\n",
       "      <td>4</td>\n",
       "    </tr>\n",
       "    <tr>\n",
       "      <th>1</th>\n",
       "      <td>5</td>\n",
       "    </tr>\n",
       "    <tr>\n",
       "      <th>2</th>\n",
       "      <td>5</td>\n",
       "    </tr>\n",
       "    <tr>\n",
       "      <th>3</th>\n",
       "      <td>2</td>\n",
       "    </tr>\n",
       "    <tr>\n",
       "      <th>4</th>\n",
       "      <td>8</td>\n",
       "    </tr>\n",
       "    <tr>\n",
       "      <th>5</th>\n",
       "      <td>0</td>\n",
       "    </tr>\n",
       "    <tr>\n",
       "      <th>6</th>\n",
       "      <td>4</td>\n",
       "    </tr>\n",
       "    <tr>\n",
       "      <th>7</th>\n",
       "      <td>7</td>\n",
       "    </tr>\n",
       "    <tr>\n",
       "      <th>8</th>\n",
       "      <td>6</td>\n",
       "    </tr>\n",
       "    <tr>\n",
       "      <th>9</th>\n",
       "      <td>5</td>\n",
       "    </tr>\n",
       "    <tr>\n",
       "      <th>10</th>\n",
       "      <td>3</td>\n",
       "    </tr>\n",
       "    <tr>\n",
       "      <th>11</th>\n",
       "      <td>6</td>\n",
       "    </tr>\n",
       "    <tr>\n",
       "      <th>12</th>\n",
       "      <td>5</td>\n",
       "    </tr>\n",
       "    <tr>\n",
       "      <th>13</th>\n",
       "      <td>1</td>\n",
       "    </tr>\n",
       "    <tr>\n",
       "      <th>14</th>\n",
       "      <td>5</td>\n",
       "    </tr>\n",
       "    <tr>\n",
       "      <th>15</th>\n",
       "      <td>5</td>\n",
       "    </tr>\n",
       "    <tr>\n",
       "      <th>16</th>\n",
       "      <td>7</td>\n",
       "    </tr>\n",
       "    <tr>\n",
       "      <th>17</th>\n",
       "      <td>8</td>\n",
       "    </tr>\n",
       "    <tr>\n",
       "      <th>18</th>\n",
       "      <td>3</td>\n",
       "    </tr>\n",
       "    <tr>\n",
       "      <th>19</th>\n",
       "      <td>4</td>\n",
       "    </tr>\n",
       "    <tr>\n",
       "      <th>20</th>\n",
       "      <td>9</td>\n",
       "    </tr>\n",
       "    <tr>\n",
       "      <th>21</th>\n",
       "      <td>8</td>\n",
       "    </tr>\n",
       "    <tr>\n",
       "      <th>22</th>\n",
       "      <td>7</td>\n",
       "    </tr>\n",
       "    <tr>\n",
       "      <th>23</th>\n",
       "      <td>1</td>\n",
       "    </tr>\n",
       "    <tr>\n",
       "      <th>24</th>\n",
       "      <td>5</td>\n",
       "    </tr>\n",
       "    <tr>\n",
       "      <th>25</th>\n",
       "      <td>0</td>\n",
       "    </tr>\n",
       "    <tr>\n",
       "      <th>26</th>\n",
       "      <td>7</td>\n",
       "    </tr>\n",
       "    <tr>\n",
       "      <th>27</th>\n",
       "      <td>2</td>\n",
       "    </tr>\n",
       "    <tr>\n",
       "      <th>28</th>\n",
       "      <td>6</td>\n",
       "    </tr>\n",
       "    <tr>\n",
       "      <th>29</th>\n",
       "      <td>2</td>\n",
       "    </tr>\n",
       "    <tr>\n",
       "      <th>30</th>\n",
       "      <td>5</td>\n",
       "    </tr>\n",
       "    <tr>\n",
       "      <th>31</th>\n",
       "      <td>8</td>\n",
       "    </tr>\n",
       "  </tbody>\n",
       "</table>\n",
       "</div>"
      ],
      "text/plain": [
       "    0\n",
       "0   4\n",
       "1   5\n",
       "2   5\n",
       "3   2\n",
       "4   8\n",
       "5   0\n",
       "6   4\n",
       "7   7\n",
       "8   6\n",
       "9   5\n",
       "10  3\n",
       "11  6\n",
       "12  5\n",
       "13  1\n",
       "14  5\n",
       "15  5\n",
       "16  7\n",
       "17  8\n",
       "18  3\n",
       "19  4\n",
       "20  9\n",
       "21  8\n",
       "22  7\n",
       "23  1\n",
       "24  5\n",
       "25  0\n",
       "26  7\n",
       "27  2\n",
       "28  6\n",
       "29  2\n",
       "30  5\n",
       "31  8"
      ]
     },
     "execution_count": 284,
     "metadata": {},
     "output_type": "execute_result"
    }
   ],
   "source": [
    "pd.DataFrame(d15.reshape(32,-1987987))"
   ]
  },
  {
   "cell_type": "code",
   "execution_count": null,
   "id": "203c85ed-3b04-46c5-8bb8-7e486b41adb2",
   "metadata": {},
   "outputs": [],
   "source": []
  }
 ],
 "metadata": {
  "kernelspec": {
   "display_name": "Python 3 (ipykernel)",
   "language": "python",
   "name": "python3"
  },
  "language_info": {
   "codemirror_mode": {
    "name": "ipython",
    "version": 3
   },
   "file_extension": ".py",
   "mimetype": "text/x-python",
   "name": "python",
   "nbconvert_exporter": "python",
   "pygments_lexer": "ipython3",
   "version": "3.10.6"
  }
 },
 "nbformat": 4,
 "nbformat_minor": 5
}
